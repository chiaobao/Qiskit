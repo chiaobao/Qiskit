{
 "cells": [
  {
   "cell_type": "code",
   "execution_count": 1,
   "metadata": {},
   "outputs": [
    {
     "ename": "ModuleNotFoundError",
     "evalue": "No module named 'qiskit'",
     "output_type": "error",
     "traceback": [
      "\u001b[1;31m---------------------------------------------------------------------------\u001b[0m",
      "\u001b[1;31mModuleNotFoundError\u001b[0m                       Traceback (most recent call last)",
      "\u001b[1;32m<ipython-input-1-578b7f7e9727>\u001b[0m in \u001b[0;36m<module>\u001b[1;34m()\u001b[0m\n\u001b[1;32m----> 1\u001b[1;33m \u001b[1;32mimport\u001b[0m \u001b[0mqiskit\u001b[0m\u001b[1;33m\u001b[0m\u001b[0m\n\u001b[0m",
      "\u001b[1;31mModuleNotFoundError\u001b[0m: No module named 'qiskit'"
     ]
    }
   ],
   "source": [
    "import qiskit"
   ]
  },
  {
   "cell_type": "code",
   "execution_count": null,
   "metadata": {},
   "outputs": [],
   "source": [
    "#if you already installed Qiskit to python3.7 but still had the error above  \"ModuleNotFoundError: No module named 'qiskit'\".\n",
    "#It may due to the different path from jupyter and the python you installed the library.\n",
    "#Suggest you can try:\n",
    "\n",
    "import sys\n",
    "sys.path"
   ]
  },
  {
   "cell_type": "code",
   "execution_count": null,
   "metadata": {},
   "outputs": [],
   "source": [
    "#You might see it's different from using python form cmd. \n",
    "#You can use the method below to modify the configuration file.\n",
    "#step1: Go to C:\\Users\\username\\.jupyter , there's a file called \"migrated\".\n",
    "#step2: Go to your local python's folder and find \"Script\" folder. Cmd from python\\Script \n",
    "#and key in: jupyter notebook --generate-config\n",
    "\n",
    "#step3: It will generate a file called \"jupyter_notebook_config.py\" under previous \".jupyter\" folder\n",
    "#step4: Open the file and find \"# c.NotebookApp.notebook_dir = ''\".You can key in the dir you want. \n",
    "-------------------------------------------------------------------------------------------------------\n",
    "Open jupyter notebook from Cmd- the path below python\\Script; Key in \"jupyter notebook\"\n",
    "then can import qiskit successfully."
   ]
  }
 ],
 "metadata": {
  "kernelspec": {
   "display_name": "Python 3",
   "language": "python",
   "name": "python3"
  },
  "language_info": {
   "codemirror_mode": {
    "name": "ipython",
    "version": 3
   },
   "file_extension": ".py",
   "mimetype": "text/x-python",
   "name": "python",
   "nbconvert_exporter": "python",
   "pygments_lexer": "ipython3",
   "version": "3.7.0"
  }
 },
 "nbformat": 4,
 "nbformat_minor": 2
}

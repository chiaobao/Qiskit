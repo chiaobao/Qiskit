{
 "cells": [
  {
   "cell_type": "markdown",
   "id": "e789c74e",
   "metadata": {},
   "source": [
    "# Task 3 Find best results\n",
    "From Quantum Open Source Foundation"
   ]
  },
  {
   "cell_type": "markdown",
   "id": "d04eca51",
   "metadata": {},
   "source": [
    "For this problem you have the following situation: you are playing a game of tic-tac-toe, and you find the situation in the figure below, next is your turn, develop a quantum algorithm to be able to find the best decisions with higher probability.\n",
    "<br />tic-tac-toe: [1,0,0,1, , ,0, , ]\n",
    "<br />X | O | O \n",
    "<br />X |    | \n",
    "<br />O |    | \n",
    "<br />The following considerations apply:\n",
    "<br />•\tYou are the X's.\n",
    "<br />•\tThe matrix as a qubit and the state of the X's is |1> and of the O's is |0>, of the empty cells an unknown state.\n",
    "<br />•\tWhat are the valid combinations to win?\n",
    "<br />•\tYou have at most 2 turns\n",
    "<br />A hint for this exercise should consider all the possible ways to win that (there’s 8 of them), for this exercise must obtain with probability the state with the highest probability.\n",
    "<br />for the output only give the status of the empty boxes, you consider this example: \n",
    "<br />If you think the solution is put the values \n",
    "<br />X | O | O \n",
    "<br />X | X  | X\n",
    "<br />O | O | O\n",
    "\n",
    "<br />The state output must be |1100>\n",
    "\n"
   ]
  },
  {
   "cell_type": "markdown",
   "id": "71d0d5fa",
   "metadata": {},
   "source": [
    "# Thoughts"
   ]
  },
  {
   "cell_type": "markdown",
   "id": "8ebfb799",
   "metadata": {},
   "source": [
    "Considering all the possible ways to win the games and the current situation, I have two ways to win the game.\n",
    "<br />That are \n",
    "<br />X|O|O \n",
    "<br />X|X|O\n",
    "<br />O|O|X\n",
    "<br /> and \n",
    "<br />X|O|O \n",
    "<br />X|X|X\n",
    "<br />O|O|O\n",
    "<br />The center place is important for both of them so I need to have a \"1\" at that place. "
   ]
  },
  {
   "cell_type": "markdown",
   "id": "dc91004f",
   "metadata": {},
   "source": [
    "<u> Using Qiskit to do the task.</u> "
   ]
  },
  {
   "cell_type": "code",
   "execution_count": 1,
   "id": "65f612c8",
   "metadata": {},
   "outputs": [],
   "source": [
    "#Import qiskit module\n",
    "\n",
    "from qiskit import *"
   ]
  },
  {
   "cell_type": "code",
   "execution_count": 2,
   "id": "e8690c7b",
   "metadata": {},
   "outputs": [],
   "source": [
    "#Create a four qubits circuit with four classical bits.\n",
    "\n",
    "circuit = QuantumCircuit(4,4)"
   ]
  },
  {
   "cell_type": "code",
   "execution_count": 3,
   "id": "8cd1b77b",
   "metadata": {},
   "outputs": [
    {
     "data": {
      "text/plain": [
       "<qiskit.circuit.instructionset.InstructionSet at 0x1f30cb97dc8>"
      ]
     },
     "execution_count": 3,
     "metadata": {},
     "output_type": "execute_result"
    }
   ],
   "source": [
    "#The center place should be my next step, I add a X gate on it.\n",
    "\n",
    "circuit.x(0)"
   ]
  },
  {
   "cell_type": "code",
   "execution_count": 4,
   "id": "ac6e8d30",
   "metadata": {},
   "outputs": [
    {
     "data": {
      "text/plain": [
       "<qiskit.circuit.instructionset.InstructionSet at 0x1f30cba40d8>"
      ]
     },
     "execution_count": 4,
     "metadata": {},
     "output_type": "execute_result"
    }
   ],
   "source": [
    "#And then following a Hadamard gate and CNOT gate \n",
    "circuit.h(1)\n",
    "circuit.cx(1,3) "
   ]
  },
  {
   "cell_type": "code",
   "execution_count": 5,
   "id": "aa0f5047",
   "metadata": {},
   "outputs": [
    {
     "data": {
      "text/html": [
       "<pre style=\"word-wrap: normal;white-space: pre;background: #fff0;line-height: 1.1;font-family: &quot;Courier New&quot;,Courier,monospace\">     ┌───┐     \n",
       "q_0: ┤ X ├─────\n",
       "     ├───┤     \n",
       "q_1: ┤ H ├──■──\n",
       "     └───┘  │  \n",
       "q_2: ───────┼──\n",
       "          ┌─┴─┐\n",
       "q_3: ─────┤ X ├\n",
       "          └───┘\n",
       "c: 4/══════════\n",
       "               </pre>"
      ],
      "text/plain": [
       "     ┌───┐     \n",
       "q_0: ┤ X ├─────\n",
       "     ├───┤     \n",
       "q_1: ┤ H ├──■──\n",
       "     └───┘  │  \n",
       "q_2: ───────┼──\n",
       "          ┌─┴─┐\n",
       "q_3: ─────┤ X ├\n",
       "          └───┘\n",
       "c: 4/══════════\n",
       "               "
      ]
     },
     "execution_count": 5,
     "metadata": {},
     "output_type": "execute_result"
    }
   ],
   "source": [
    "#We can draw a circuit diagram by:\n",
    "circuit.draw()"
   ]
  },
  {
   "cell_type": "code",
   "execution_count": 6,
   "id": "392c67cf",
   "metadata": {},
   "outputs": [
    {
     "data": {
      "image/png": "[encoded data removed]",
      "text/plain": [
       "<Figure size 206.997x325.08 with 1 Axes>"
      ]
     },
     "execution_count": 6,
     "metadata": {},
     "output_type": "execute_result"
    }
   ],
   "source": [
    "%matplotlib inline\n",
    "circuit.draw(output='mpl')"
   ]
  },
  {
   "cell_type": "code",
   "execution_count": 7,
   "id": "219c2d8a",
   "metadata": {},
   "outputs": [
    {
     "data": {
      "image/png": "[encoded data removed]",
      "text/plain": [
       "<Figure size 267.197x325.08 with 1 Axes>"
      ]
     },
     "execution_count": 7,
     "metadata": {},
     "output_type": "execute_result"
    }
   ],
   "source": [
    "circuit.x(3)\n",
    "circuit.draw(output='mpl')"
   ]
  },
  {
   "cell_type": "code",
   "execution_count": 8,
   "id": "2cd8f660",
   "metadata": {},
   "outputs": [
    {
     "data": {
      "image/png": "[encoded data removed]",
      "text/plain": [
       "<Figure size 447.797x325.08 with 1 Axes>"
      ]
     },
     "execution_count": 8,
     "metadata": {},
     "output_type": "execute_result"
    }
   ],
   "source": [
    "#Measure qubits and store in corresponding classical bits.\n",
    "circuit.measure([0,1,2,3], [0,1,2,3])\n",
    "circuit.draw(output='mpl')"
   ]
  },
  {
   "cell_type": "code",
   "execution_count": 9,
   "id": "55104a94",
   "metadata": {},
   "outputs": [],
   "source": [
    "#Simulate the quantum circuit first.\n",
    "simulator = Aer.get_backend('qasm_simulator')"
   ]
  },
  {
   "cell_type": "code",
   "execution_count": 10,
   "id": "906624e3",
   "metadata": {},
   "outputs": [],
   "source": [
    "#Measure 1024 times.\n",
    "results = execute(circuit, backend= simulator, shots=1024).result()"
   ]
  },
  {
   "cell_type": "code",
   "execution_count": 11,
   "id": "abddf1f5",
   "metadata": {},
   "outputs": [
    {
     "name": "stdout",
     "output_type": "stream",
     "text": [
      "{'0011': 505, '1001': 519}\n"
     ]
    }
   ],
   "source": [
    "#We can get answer '1001' for 491 times and answer '0011' for 533 times.\n",
    "counts= results.get_counts()\n",
    "print(counts)"
   ]
  },
  {
   "cell_type": "code",
   "execution_count": 12,
   "id": "dff80f6b",
   "metadata": {},
   "outputs": [],
   "source": [
    "from qiskit.visualization import plot_histogram"
   ]
  },
  {
   "cell_type": "code",
   "execution_count": 13,
   "id": "2a2ac293",
   "metadata": {},
   "outputs": [
    {
     "data": {
      "image/png": "[encoded data removed]",
      "text/plain": [
       "<Figure size 504x360 with 1 Axes>"
      ]
     },
     "execution_count": 13,
     "metadata": {},
     "output_type": "execute_result"
    }
   ],
   "source": [
    "plot_histogram(results.get_counts(circuit))"
   ]
  },
  {
   "cell_type": "code",
   "execution_count": 14,
   "id": "66eee775",
   "metadata": {},
   "outputs": [],
   "source": [
    "#Prepare to run the circuit on a real quantum hardware IBM Q.  \n",
    "provider = IBMQ.load_account()"
   ]
  },
  {
   "cell_type": "code",
   "execution_count": 15,
   "id": "93c83079",
   "metadata": {},
   "outputs": [],
   "source": [
    "#Designate specific backend\n",
    "backend = provider.get_backend('ibmq_bogota')"
   ]
  },
  {
   "cell_type": "code",
   "execution_count": 16,
   "id": "72e961aa",
   "metadata": {},
   "outputs": [
    {
     "data": {
      "application/vnd.jupyter.widget-view+json": {
       "model_id": "",
       "version_major": 2,
       "version_minor": 0
      },
      "text/plain": [
       "Accordion(children=(VBox(layout=Layout(max_width='710px', min_width='710px')),), layout=Layout(max_height='500…"
      ]
     },
     "metadata": {},
     "output_type": "display_data"
    },
    {
     "data": {
      "application/javascript": [
       "\n",
       "        const isLab = window['Jupyter'] === undefined;\n",
       "        const notebook = document.querySelector( isLab ? 'div.jp-Notebook' : '#site');\n",
       "        const jobWidget = document.querySelector('div.job_widget');\n",
       "        notebook.prepend(jobWidget);\n",
       "        jobWidget.style.zIndex = '999';\n",
       "        jobWidget.style.position = isLab ? 'sticky' : 'fixed';\n",
       "        jobWidget.style.boxShadow = '5px 5px 5px -3px black';\n",
       "        jobWidget.style.opacity = '0.95';\n",
       "        if (isLab) {\n",
       "            jobWidget.style.top = '0';\n",
       "            jobWidget.style.left = '0';\n",
       "        }\n",
       "        "
      ],
      "text/plain": [
       "<IPython.core.display.Javascript object>"
      ]
     },
     "metadata": {},
     "output_type": "display_data"
    }
   ],
   "source": [
    "#Add job watcher so that we can see current status of the job \n",
    "import qiskit.tools.jupyter\n",
    "%qiskit_job_watcher"
   ]
  },
  {
   "cell_type": "code",
   "execution_count": 17,
   "id": "d2927a93",
   "metadata": {},
   "outputs": [],
   "source": [
    "job = execute(circuit, backend= backend, shots=1024)"
   ]
  },
  {
   "cell_type": "code",
   "execution_count": 18,
   "id": "78c2f064",
   "metadata": {},
   "outputs": [
    {
     "name": "stdout",
     "output_type": "stream",
     "text": [
      "Job Status: job has successfully run\n"
     ]
    }
   ],
   "source": [
    "from qiskit.tools.monitor import job_monitor\n",
    "job_monitor(job)"
   ]
  },
  {
   "cell_type": "code",
   "execution_count": 19,
   "id": "8579c064",
   "metadata": {},
   "outputs": [
    {
     "name": "stdout",
     "output_type": "stream",
     "text": [
      "{'0000': 2, '0001': 31, '0010': 36, '0011': 495, '0101': 2, '0110': 5, '0111': 26, '1000': 18, '1001': 377, '1010': 2, '1011': 9, '1100': 1, '1101': 15, '1110': 3, '1111': 2}\n"
     ]
    },
    {
     "data": {
      "image/png": "[encoded data removed]",
      "text/plain": [
       "<Figure size 504x360 with 1 Axes>"
      ]
     },
     "execution_count": 19,
     "metadata": {},
     "output_type": "execute_result"
    }
   ],
   "source": [
    "result = job.result()\n",
    "print(result.get_counts())\n",
    "plot_histogram(result.get_counts(circuit))"
   ]
  },
  {
   "cell_type": "code",
   "execution_count": 20,
   "id": "89250a6b",
   "metadata": {},
   "outputs": [],
   "source": [
    "#Close the job watcher window by using\n",
    "%qiskit_disable_job_watcher"
   ]
  },
  {
   "cell_type": "markdown",
   "id": "849598c9",
   "metadata": {},
   "source": [
    "# Result"
   ]
  },
  {
   "cell_type": "markdown",
   "id": "7020f29d",
   "metadata": {},
   "source": [
    "# The measurement result is |1100> ."
   ]
  },
  {
   "cell_type": "code",
   "execution_count": null,
   "id": "40a8fda3",
   "metadata": {},
   "outputs": [],
   "source": []
  }
 ],
 "metadata": {
  "kernelspec": {
   "display_name": "Python 3 (ipykernel)",
   "language": "python",
   "name": "python3"
  },
  "language_info": {
   "codemirror_mode": {
    "name": "ipython",
    "version": 3
   },
   "file_extension": ".py",
   "mimetype": "text/x-python",
   "name": "python",
   "nbconvert_exporter": "python",
   "pygments_lexer": "ipython3",
   "version": "3.7.0"
  }
 },
 "nbformat": 4,
 "nbformat_minor": 5
}
